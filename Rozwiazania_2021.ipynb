{
 "cells": [
  {
   "cell_type": "code",
   "execution_count": 1,
   "metadata": {},
   "outputs": [],
   "source": [
    "from pathlib import Path"
   ]
  },
  {
   "cell_type": "markdown",
   "metadata": {},
   "source": [
    "## Zadanie 4"
   ]
  },
  {
   "cell_type": "code",
   "execution_count": 3,
   "metadata": {},
   "outputs": [],
   "source": [
    "instrukcje = []\n",
    "with open('DANE_2105/instrukcje.txt') as f:\n",
    "    for wiersz in f:\n",
    "        wiersz= wiersz.strip()\n",
    "        instrukcje.append(wiersz)"
   ]
  },
  {
   "cell_type": "code",
   "execution_count": 5,
   "metadata": {},
   "outputs": [],
   "source": [
    "instrukcje_przyklad = []\n",
    "with open('DANE_2105/przyklad.txt') as f:\n",
    "    for wiersz in f:\n",
    "        wiersz= wiersz.strip()\n",
    "        instrukcje_przyklad.append(wiersz)"
   ]
  },
  {
   "cell_type": "code",
   "execution_count": 6,
   "metadata": {},
   "outputs": [
    {
     "data": {
      "text/plain": [
       "['DOPISZ Z',\n",
       " 'DOPISZ U',\n",
       " 'USUN 1',\n",
       " 'DOPISZ L',\n",
       " 'DOPISZ A',\n",
       " 'PRZESUN Z',\n",
       " 'DOPISZ U',\n",
       " 'PRZESUN U',\n",
       " 'ZMIEN M',\n",
       " 'PRZESUN M',\n",
       " 'DOPISZ N',\n",
       " 'USUN 1',\n",
       " 'DOPISZ T',\n",
       " 'DOPISZ U',\n",
       " 'DOPISZ R',\n",
       " 'DOPISZ H',\n",
       " 'DOPISZ N',\n",
       " 'PRZESUN H',\n",
       " 'DOPISZ V',\n",
       " 'ZMIEN G']"
      ]
     },
     "execution_count": 6,
     "metadata": {},
     "output_type": "execute_result"
    }
   ],
   "source": [
    "instrukcje_przyklad"
   ]
  },
  {
   "cell_type": "code",
   "execution_count": 7,
   "metadata": {},
   "outputs": [],
   "source": [
    "def zadanie_4_1(wejscie):\n",
    "    wynik = 0\n",
    "    for item in wejscie:\n",
    "        krok = item.split()[0]\n",
    "        if krok == 'DOPISZ':\n",
    "            wynik+=1\n",
    "        if krok == 'USUN':\n",
    "            wynik-=1\n",
    "        if krok == 'ZMIEN':\n",
    "            pass\n",
    "        if krok == 'PRZESUN':\n",
    "            pass\n",
    "    \n",
    "\n",
    "    return wynik"
   ]
  },
  {
   "cell_type": "code",
   "execution_count": 66,
   "metadata": {},
   "outputs": [
    {
     "data": {
      "text/plain": [
       "517"
      ]
     },
     "execution_count": 66,
     "metadata": {},
     "output_type": "execute_result"
    }
   ],
   "source": [
    "zadanie_4_1(instrukcje)"
   ]
  },
  {
   "cell_type": "code",
   "execution_count": 67,
   "metadata": {},
   "outputs": [],
   "source": [
    "def zadanie_4_2(wejscie):\n",
    "    best = ['Start',0]\n",
    "    poprzedni = 'Start'\n",
    "    dlugosc = 0\n",
    "    for idx,item in enumerate(wejscie):\n",
    "        krok = item.split()[0]\n",
    "        if krok == poprzedni:\n",
    "            dlugosc+=1\n",
    "        else:\n",
    "            if dlugosc > best[1]:\n",
    "                best[0]=wejscie[idx-1].split()[0]\n",
    "                best[1]=dlugosc\n",
    "            poprzedni = krok\n",
    "            dlugosc = 1\n",
    "\n",
    "    return best\n"
   ]
  },
  {
   "cell_type": "code",
   "execution_count": 75,
   "metadata": {},
   "outputs": [
    {
     "data": {
      "text/plain": [
       "['ZMIEN', 7]"
      ]
     },
     "execution_count": 75,
     "metadata": {},
     "output_type": "execute_result"
    }
   ],
   "source": [
    "zadanie_4_2(instrukcje)"
   ]
  },
  {
   "cell_type": "code",
   "execution_count": 59,
   "metadata": {},
   "outputs": [],
   "source": [
    "def zadanie_4_3(wejscie):\n",
    "    litery = {}\n",
    "    for item in wejscie:\n",
    "        krok = item.split()\n",
    "        if krok[0] == 'DOPISZ':\n",
    "            if krok[1] in litery.keys() :\n",
    "                litery[krok[1]]=litery[krok[1]]+1\n",
    "            else:\n",
    "                litery[krok[1]]=1\n",
    "    wynik = max(litery, key=litery.get)\n",
    "\n",
    "    return wynik,litery[wynik]"
   ]
  },
  {
   "cell_type": "code",
   "execution_count": 60,
   "metadata": {},
   "outputs": [
    {
     "data": {
      "text/plain": [
       "('Z', 37)"
      ]
     },
     "execution_count": 60,
     "metadata": {},
     "output_type": "execute_result"
    }
   ],
   "source": [
    "zadanie_4_3(instrukcje)"
   ]
  },
  {
   "cell_type": "code",
   "execution_count": 61,
   "metadata": {},
   "outputs": [],
   "source": [
    "def zadanie_4_4(wejscie):\n",
    "    slowo = []\n",
    "    alfabet = 'ABCDEFGHIJKLMNOPQRSTUVWXYZ'\n",
    "\n",
    "    for item in wejscie:\n",
    "        krok = item.split()\n",
    "        if krok[0] == 'DOPISZ':\n",
    "            slowo.append(krok[1])\n",
    "        if krok[0] == 'USUN':\n",
    "            slowo.pop()\n",
    "        if krok[0] == 'ZMIEN':\n",
    "            slowo[-1]=krok[1]\n",
    "        if krok[0] == 'PRZESUN':\n",
    "            idx = slowo.index(krok[1])\n",
    "            if krok[1]=='Z':\n",
    "                slowo[idx]='A'\n",
    "            else:\n",
    "                # print(slowo[idx])\n",
    "                slowo[idx] = alfabet[alfabet.index(slowo[idx])+1]\n",
    "    \n",
    "\n",
    "    return ''.join(slowo)"
   ]
  },
  {
   "cell_type": "code",
   "execution_count": 72,
   "metadata": {},
   "outputs": [
    {
     "data": {
      "text/plain": [
       "'POZNIEJMOWIONOZECZLOWIEKTENNADSZEDLODPOLNOCYODBRAMYPOWROZNICZEJSZEDLPIESZOAOBJUCZONEGOKONIAPROWADZILZAUZDEBYLOPOZNEPOPOLUDNIEIKRAMYPOWROZNIKOWIRYMARZYBYLYJUZZAMKNIETEAULICZKAPUSTABYLOCIEPLOACZLOWIEKTENMIALNASOBIECZARNYPLASZCZNARZUCONYNARAMIONAZWRACALUWAGEZATRZYMALSIEPRZEDGOSPODASTARYNARAKORTPOSTALCHWILEPOSLUCHALGWARUGLOSOWGOSPODAJAKZWYKLEOTEJPORZEBYLAPELNALUDZINIEZNAJOMYNIEWSZEDLDOSTAREGONARAKORTUPOCIAGNALKONIADALEJWDOLULICZKITAMBYLADRUGAKARCZMAMNIEJSZANAZYWALASIEPODLISEMTUBYLOPUSTOKARCZMANIEMIALANAJLEPSZEJSLAWY'"
      ]
     },
     "execution_count": 72,
     "metadata": {},
     "output_type": "execute_result"
    }
   ],
   "source": [
    "zdanie = zadanie_4_4(instrukcje)\n",
    "zdanie"
   ]
  },
  {
   "cell_type": "code",
   "execution_count": 63,
   "metadata": {},
   "outputs": [
    {
     "data": {
      "text/plain": [
       "True"
      ]
     },
     "execution_count": 63,
     "metadata": {},
     "output_type": "execute_result"
    }
   ],
   "source": [
    "zdanie == \"POZNIEJMOWIONOZECZLOWIEKTENNADSZEDLODPOLNOCYODBRAMYPOWROZNICZEJSZEDLPIESZOAOBJUCZONEGOKONIAPROWADZILZAUZDEBYLOPOZNEPOPOLUDNIEIKRAMYPOWROZNIKOWIRYMARZYBYLYJUZZAMKNIETEAULICZKAPUSTABYLOCIEPLOACZLOWIEKTENMIALNASOBIECZARNYPLASZCZNARZUCONYNARAMIONAZWRACALUWAGEZATRZYMALSIEPRZEDGOSPODASTARYNARAKORTPOSTALCHWILEPOSLUCHALGWARUGLOSOWGOSPODAJAKZWYKLEOTEJPORZEBYLAPELNALUDZINIEZNAJOMYNIEWSZEDLDOSTAREGONARAKORTUPOCIAGNALKONIADALEJWDOLULICZKITAMBYLADRUGAKARCZMAMNIEJSZANAZYWALASIEPODLISEMTUBYLOPUSTOKARCZMANIEMIALANAJLEPSZEJSLAWY\""
   ]
  },
  {
   "cell_type": "code",
   "execution_count": null,
   "metadata": {},
   "outputs": [],
   "source": []
  }
 ],
 "metadata": {
  "interpreter": {
   "hash": "66817275d0a38e4d8c274e20667b259b90f0fc84f646a5311c297e31774ce5e1"
  },
  "kernelspec": {
   "display_name": "Python 3.8.6 64-bit",
   "language": "python",
   "name": "python3"
  },
  "language_info": {
   "codemirror_mode": {
    "name": "ipython",
    "version": 3
   },
   "file_extension": ".py",
   "mimetype": "text/x-python",
   "name": "python",
   "nbconvert_exporter": "python",
   "pygments_lexer": "ipython3",
   "version": "3.8.6"
  },
  "orig_nbformat": 4
 },
 "nbformat": 4,
 "nbformat_minor": 2
}
