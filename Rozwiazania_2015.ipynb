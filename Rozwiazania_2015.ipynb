{
 "cells": [
  {
   "cell_type": "markdown",
   "metadata": {},
   "source": [
    "## Zadanie 4"
   ]
  },
  {
   "cell_type": "markdown",
   "metadata": {},
   "source": [
    "#### W pliku liczby.txt znajduje się 1000 liczb naturalnych zapisanych binarnie. Każda liczba zapisana jest w osobnym wierszu. Pierwsze pięć wierszy zawiera następujące liczby:\n",
    "\n",
    "11010100111\n",
    "\n",
    "11110111111011101\n",
    "\n",
    "1010100111010100\n",
    "\n",
    "1101111111111111111111010100101010101001\n",
    "\n",
    "1010110011001101010011110101010101010111\n",
    "\n",
    "#### Każda liczba binarna zawiera co najwyżej 250 cyfr binarnych, co oznacza, że w wielu językach programowania wartości niektórych z tych liczb nie da się zapamiętać w pojedynczej zmiennej typu całkowitoliczbowego, np. w języku C++ w zmiennej typu int.\n",
    "\n",
    "#### Napisz program, który da odpowiedzi do poniższych zadań. Odpowiedzi zapisz w pliku wynik4.txt, a każdą odpowiedź poprzedź numerem oznaczającym odpowiednie zadanie. "
   ]
  },
  {
   "cell_type": "code",
   "execution_count": 2,
   "metadata": {},
   "outputs": [],
   "source": [
    "sciezka_do_pliku = 'Dane_PR2/liczby.txt'"
   ]
  },
  {
   "cell_type": "code",
   "execution_count": 3,
   "metadata": {},
   "outputs": [],
   "source": [
    "liczby = []"
   ]
  },
  {
   "cell_type": "code",
   "execution_count": 4,
   "metadata": {},
   "outputs": [],
   "source": [
    "with open(sciezka_do_pliku,'r') as liczby_plik:\n",
    "    for wiersz in liczby_plik:\n",
    "        wiersz = wiersz.strip()\n",
    "        liczby.append(wiersz)"
   ]
  },
  {
   "cell_type": "code",
   "execution_count": 6,
   "metadata": {},
   "outputs": [
    {
     "data": {
      "text/plain": [
       "['11010100111',\n",
       " '11110111111011101',\n",
       " '1010100111010100',\n",
       " '1101111111111111111111010100101010101001',\n",
       " '1010110011001101010011110101010101010111']"
      ]
     },
     "execution_count": 6,
     "metadata": {},
     "output_type": "execute_result"
    }
   ],
   "source": [
    "liczby[:5]"
   ]
  },
  {
   "cell_type": "markdown",
   "metadata": {},
   "source": [
    "### Zadanie 4.1\n",
    "\n",
    "#### Podaj, ile liczb z pliku liczby.txt ma w swoim zapisie binarnym więcej zer niż jedynek.\n",
    "\n",
    "Przykład dla zestawu liczb:\n",
    "\n",
    "101011010011001100111\n",
    "\n",
    "<ins>10001001</ins>\n",
    "\n",
    "<ins>1000000<ins>\n",
    "\n",
    "101010011100\n",
    "\n",
    "<ins>100010<ins>\n",
    "\n",
    "wynikiem jest liczba 3 (3 podkreślone liczby mają w swoim zapisie więcej zer niż jedynek). "
   ]
  },
  {
   "cell_type": "code",
   "execution_count": 7,
   "metadata": {},
   "outputs": [],
   "source": [
    "def ilosc_liczb_0_niz_1(liczby):\n",
    "    ilosc_takich_liczb = 0\n",
    "    for liczba in liczby:\n",
    "        liczba0 = 0\n",
    "        liczba1 = 0\n",
    "        for char in liczba:\n",
    "            if char == '0':\n",
    "                liczba0 += 1\n",
    "            elif char == '1':\n",
    "                liczba1 += 1\n",
    "        if liczba0 > liczba1:\n",
    "            ilosc_takich_liczb += 1\n",
    "        else:\n",
    "            pass\n",
    "    return ilosc_takich_liczb"
   ]
  },
  {
   "cell_type": "code",
   "execution_count": 8,
   "metadata": {},
   "outputs": [],
   "source": [
    "def zadanie_4_1(liczby_do_sprawdzenia):\n",
    "    test_wynik = ilosc_liczb_0_niz_1(liczby_do_sprawdzenia)\n",
    "    zdany = test_wynik == 3\n",
    "    print(f'Test {\"zdany\" if zdany else f\"Nie zdany, zamiast 3 wyszło {test_wynik}\"}')\n",
    "\n",
    "    print(f'Ilość takich liczb: {ilosc_liczb_0_niz_1(liczby)}')"
   ]
  },
  {
   "cell_type": "code",
   "execution_count": 10,
   "metadata": {},
   "outputs": [
    {
     "name": "stdout",
     "output_type": "stream",
     "text": [
      "Test zdany\n",
      "Ilość takich liczb: 422\n"
     ]
    }
   ],
   "source": [
    "liczby_test = ['101011010011001100111',\n",
    "'10001001',\n",
    "'1000000',\n",
    "'101010011100',\n",
    "'100010']\n",
    "zadanie_4_1(liczby_test)"
   ]
  },
  {
   "cell_type": "markdown",
   "metadata": {},
   "source": [
    "### Zadanie 4.2\n",
    "\n",
    "#### Podaj, ile liczb w pliku liczby.txt jest podzielnych przez 2 oraz ile liczb jest podzielnych przez 8.\n",
    "\n",
    "Przykład dla zestawu liczb:\n",
    "\n",
    "101011010011001100000 (*), (**)\n",
    "\n",
    "10001001\n",
    "\n",
    "100100 (*)\n",
    "\n",
    "101010010101011011000 (*), (**)\n",
    "\n",
    "100011\n",
    "\n",
    "trzy liczby są podzielne przez 2 (*) i dwie liczby są podzielne przez 8 (**). "
   ]
  },
  {
   "cell_type": "code",
   "execution_count": 15,
   "metadata": {},
   "outputs": [],
   "source": [
    "def zadanie_4_2(liczby_do_sprawdzenia):\n",
    "    podzielne_przez_2 = 0\n",
    "    podzielne_przez_8 = 0\n",
    "    for liczba in liczby_do_sprawdzenia:\n",
    "        liczba = int(liczba, 2)\n",
    "        if liczba % 2 == 0:\n",
    "            podzielne_przez_2 += 1\n",
    "        if liczba % 8 == 0:\n",
    "            podzielne_przez_8 += 1\n",
    "    print(f'Podzielne przez 2: {podzielne_przez_2}')\n",
    "    print(f'Podzielne przez 8: {podzielne_przez_8}')\n"
   ]
  },
  {
   "cell_type": "code",
   "execution_count": 16,
   "metadata": {},
   "outputs": [
    {
     "name": "stdout",
     "output_type": "stream",
     "text": [
      "Podzielne przez 2: 500\n",
      "Podzielne przez 8: 123\n"
     ]
    }
   ],
   "source": [
    "zadanie_4_2(liczby)"
   ]
  },
  {
   "cell_type": "markdown",
   "metadata": {},
   "source": [
    "### Zadanie 4.3\n",
    "\n",
    "#### Znajdź najmniejszą i największą liczbę w pliku liczby.txt. Jako odpowiedź podaj\n",
    "#### numery wierszy, w których się one znajdują.\n",
    "\n",
    "Przykład dla zestawu liczb:\n",
    "\n",
    "101011010011001100111\n",
    "\n",
    "10001001011101010\n",
    "\n",
    "1001000\n",
    "\n",
    "101010011100\n",
    "\n",
    "1000110\n",
    "\n",
    "najmniejsza liczba to: 1000110\n",
    "największa liczba to: 101011010011001100111\n",
    "Prawidłowa odpowiedź dla powyższego przykładu to: 5, 1. "
   ]
  },
  {
   "cell_type": "code",
   "execution_count": 31,
   "metadata": {},
   "outputs": [],
   "source": [
    "def zadanie_4_3(liczby_do_sprawdzenia):    \n",
    "    lista_int = [int(x,2) for x in liczby_do_sprawdzenia]\n",
    "    maksymalna = max(lista_int)\n",
    "    minimalna = min(lista_int)\n",
    "    maksymalna_wiersz = lista_int.index(maksymalna)+1\n",
    "    minimalna_wiersz = lista_int.index(minimalna)+1\n",
    "\n",
    "    print(f'Maksymalna wartość w linii {maksymalna_wiersz}')\n",
    "    print(f'Minimalna wartość w linii {minimalna_wiersz}')"
   ]
  },
  {
   "cell_type": "code",
   "execution_count": 32,
   "metadata": {},
   "outputs": [
    {
     "name": "stdout",
     "output_type": "stream",
     "text": [
      "Maksymalna wartość w linii 925\n",
      "Minimalna wartość w linii 859\n"
     ]
    }
   ],
   "source": [
    "zadanie_4_3(liczby)"
   ]
  },
  {
   "cell_type": "markdown",
   "metadata": {},
   "source": [
    "## Zadanie 5"
   ]
  },
  {
   "cell_type": "markdown",
   "metadata": {},
   "source": [
    "#### W kolejnych wierszach pliku kraina.txt znajdują się dane demograficzne Edulandii,która składa się z 50 województw. Każde z województw znajduje się w jednym z 4 regionów: A, B, C lub D. Każdy wiersz zawiera oddzielone średnikami informacje o jednym województwie, w następującej kolejności: nazwa województwa, liczba kobiet w 2013 roku, liczba mężczyzn w 2013 roku, liczba kobiet w 2014 roku, liczba mężczyzn w 2014 roku.\n",
    "\n",
    "Przykład:\n",
    "\n",
    "    w01D;1415007;1397195;1499070;1481105\n",
    "\n",
    "    w02D;1711390;1641773;1522030;1618733\n",
    "\n",
    "    w03C;1165105;1278732;1299953;1191621\n",
    "\n",
    "    w04D;949065;1026050;688027;723233\n",
    "\n",
    "Nazwa każdego województwa zaczyna się literą „w”, za nią występuje dwucyfrowy numer\n",
    "województwa, a na końcu litera A, B, C lub D oznaczająca region, w którym to województwo\n",
    "się znajduje.\n",
    "\n",
    "Korzystając z dostępnych narzędzi informatycznych, podaj odpowiedzi do poniższych zadań.\n",
    "\n",
    "Odpowiedzi zapisz w pliku wynik5.txt, a każdą odpowiedź poprzedź numerem\n",
    "oznaczającym to zadanie. "
   ]
  },
  {
   "cell_type": "code",
   "execution_count": 35,
   "metadata": {},
   "outputs": [],
   "source": [
    "sciezka_do_pliku = 'Dane_PR2/kraina.txt'"
   ]
  },
  {
   "cell_type": "code",
   "execution_count": 41,
   "metadata": {},
   "outputs": [],
   "source": [
    "class Wojewodztwo():\n",
    "    def __init__(self, nazwa, k2013, m2013, k2014, m2014):\n",
    "        self.nazwa = nazwa # np.: `w01D`\n",
    "        self.numer = nazwa[1:3]\n",
    "        self.region = nazwa[3:4]\n",
    "\n",
    "        self.k2013 = int(k2013)\n",
    "        self.m2013 = int(m2013)\n",
    "        self.ludnosc2013 = self.k2013 + self.m2013\n",
    "\n",
    "        self.k2014 = int(k2014)\n",
    "        self.m2014 = int(m2014)\n",
    "        self.ludnosc2014 = self.k2014 + self.m2014\n",
    "\n",
    "        tempa_wzrostu = f'{(self.ludnosc2014 / self.ludnosc2013)}'.split('.')\n",
    "        self.tempo_wzrostu = float(f'{tempa_wzrostu[0]}.{tempa_wzrostu[1][:4]}')\n",
    "\n",
    "    def __repr__(self):\n",
    "        return f'<Wojewodztwo nazwa={self.nazwa} numer={self.numer} region={self.region}>'\n",
    "    "
   ]
  },
  {
   "cell_type": "code",
   "execution_count": 46,
   "metadata": {},
   "outputs": [],
   "source": [
    "wojewodztwa = []"
   ]
  },
  {
   "cell_type": "code",
   "execution_count": 47,
   "metadata": {},
   "outputs": [],
   "source": [
    "with open(sciezka_do_pliku) as plik:\n",
    "    for line in plik:\n",
    "        line = line.strip().split(';')\n",
    "        # nazwa województwa, liczba kobiet w 2013 roku, liczba mężczyzn w 2013 roku, liczba kobiet w 2014 roku, liczba mężczyzn w 2014 roku.\n",
    "        nazwa = line[0]\n",
    "        k2013 = line[1]\n",
    "        m2013 = line[2]\n",
    "        k2014 = line[3]\n",
    "        m2014 = line[4]\n",
    "        wojewodztwa.append(Wojewodztwo(nazwa, k2013, m2013, k2014, m2014))"
   ]
  },
  {
   "cell_type": "code",
   "execution_count": 44,
   "metadata": {},
   "outputs": [
    {
     "data": {
      "text/plain": [
       "<Wojewodztwo nazwa=w01D numer=01 region=D>"
      ]
     },
     "execution_count": 44,
     "metadata": {},
     "output_type": "execute_result"
    }
   ],
   "source": [
    "wojewodztwa[0]"
   ]
  },
  {
   "cell_type": "markdown",
   "metadata": {},
   "source": [
    "### Zadanie 5.1\n",
    "\n",
    "Wyznacz ludność **(liczbę wszystkich mieszkańców)** każdego z regionów A, B, C i D w roku 2013. Następnie sporządź wykres kolumnowy porównujący ludności tych regionów w roku 2013. Zadbaj o czytelność wykresu."
   ]
  },
  {
   "cell_type": "code",
   "execution_count": 62,
   "metadata": {},
   "outputs": [],
   "source": [
    "def zadanie_5_1():\n",
    "    ludnosc = {}\n",
    "    for woj in wojewodztwa:\n",
    "        obecna_ilosc = ludnosc.get(woj.region, 0)\n",
    "        ludnosc[woj.region] = obecna_ilosc + woj.ludnosc2013\n",
    "\n",
    "    return ludnosc"
   ]
  },
  {
   "cell_type": "code",
   "execution_count": 64,
   "metadata": {},
   "outputs": [
    {
     "data": {
      "text/plain": [
       "{'D': 36530387, 'C': 57649017, 'A': 33929579, 'B': 41736619}"
      ]
     },
     "execution_count": 64,
     "metadata": {},
     "output_type": "execute_result"
    }
   ],
   "source": [
    "ludnosc = zadanie_5_1()\n",
    "ludnosc"
   ]
  },
  {
   "cell_type": "code",
   "execution_count": 65,
   "metadata": {},
   "outputs": [],
   "source": [
    "import matplotlib.pyplot as plt"
   ]
  },
  {
   "cell_type": "code",
   "execution_count": 98,
   "metadata": {},
   "outputs": [
    {
     "data": {
      "image/png": "[encoded data removed]",
      "text/plain": [
       "<Figure size 432x288 with 1 Axes>"
      ]
     },
     "metadata": {
      "needs_background": "light"
     },
     "output_type": "display_data"
    }
   ],
   "source": [
    "plt.bar(list(ludnosc.keys()),list(ludnosc.values()))\n",
    "plt.xlabel('region')\n",
    "plt.ylabel('ludnosc w 1e7')\n",
    "plt.title('Ludnosc 2013')\n",
    "plt.show()\n"
   ]
  },
  {
   "cell_type": "markdown",
   "metadata": {},
   "source": [
    "### Zadanie 5.2\n",
    "\n",
    "#### Przeanalizuj dane i wybierz województwa, w których liczba kobiet w 2014 roku była większa niż w 2013 roku i jednocześnie liczba mężczyzn w 2014 roku była większa niż w 2013 roku. \n",
    "\n",
    "Podaj liczbę wszystkich takich województw w całym kraju oraz w każdym z regionów: A, B, C i D."
   ]
  },
  {
   "cell_type": "code",
   "execution_count": 71,
   "metadata": {},
   "outputs": [],
   "source": [
    "def zadanie_5_2():    \n",
    "    odp = {}\n",
    "    for woj in wojewodztwa:\n",
    "        if woj.k2014 > woj.k2013 and woj.m2014 > woj.m2013:\n",
    "            odp.setdefault(woj.region, 0)\n",
    "            odp[woj.region] += 1\n",
    "    print(f'W każdym z regionów {odp}')\n",
    "    print(f'W kraju było {sum(odp.values())} takich województw ')"
   ]
  },
  {
   "cell_type": "code",
   "execution_count": 72,
   "metadata": {},
   "outputs": [
    {
     "name": "stdout",
     "output_type": "stream",
     "text": [
      "W każdym z regionów {'D': 4, 'A': 3, 'C': 8, 'B': 4}\n",
      "W kraju było 19 takich województw \n"
     ]
    }
   ],
   "source": [
    "zadanie_5_2()"
   ]
  },
  {
   "cell_type": "markdown",
   "metadata": {},
   "source": [
    "## Zadanie 5.3"
   ]
  },
  {
   "cell_type": "markdown",
   "metadata": {},
   "source": [
    "Prognozując zmiany demograficzne w Edulandii, przyjmujemy, że tempo wzrostu populacji w każdym województwie w kolejnych latach będzie takie samo jak w okresie 2013–2014.\n",
    "\n",
    "Tempo wzrostu w danym województwie to iloraz ludnosc z (2013) / ludnosc z (2014), który zaokrąglamy w dół\n",
    "do 4 miejsc po przecinku – ludnosc (r) to ludność w tym województwie w roku r. \n",
    "\n",
    "Ludność dla roku r>2014 obliczamy wg wzoru:\n",
    "\n",
    "ludnosc (r) = ludnosc (r – 1) * tempo_wzrostu\n",
    "\n",
    "zaokrąglając w dół do liczby całkowitej.\n",
    "\n",
    "Jeżeli w jakimś województwie w danym roku ludność jest ponaddwukrotnie większa niż stan z roku 2013, to w tym województwie występuje efekt przeludnienia. Przyjmujemy wówczas, że począwszy od następnego roku ludność danego województwa nie będzie się zmieniać.\n",
    " \n",
    "\n",
    "Na przykład dla województwa w01D mamy:\n",
    "-  Ludność w 2013 roku (mężczyzn i kobiet) wynosi 1 415 007 + 1 397 195 = 2 812 202\n",
    "-  Ludność w 2014 roku (mężczyzn i kobiet) wynosi 1 499 070 + 1 481 105 = 2 980 175\n",
    "-  Tempo wzrostu dla tego województwa jest równe 2 812 202 / \n",
    "2 980175 = 1,0597  po zaokrągleniu w dół do 4 miejsc po przecinku.\n",
    "\n",
    "Liczba mieszkańców województwa w roku 2015 wyniesie:\n",
    "2 980 175 * 1,0597 = 3 158 091 (po zaokrągleniu w dół do liczby całkowitej).\n",
    "\n",
    "Dla województwa w01D ludność w roku 2025 przekroczy ponaddwukrotnie ludność\n",
    "początkową (wyniesie 5 639 669) i od tego czasu nie będzie się w kolejnych latach zmieniać.\n",
    "\n",
    "Wykonaj polecenia:\n",
    "-  Podaj liczbę wszystkich mieszkańców Edulandii w 2025 roku i wskaż, które województwo\n",
    "będzie miało w tym roku najwięcej mieszkańców.\n",
    "- Podaj liczbę województw, w których kiedykolwiek wystąpi efekt przeludnienia w latach\n",
    "2014–2025 włącznie."
   ]
  },
  {
   "cell_type": "code",
   "execution_count": 76,
   "metadata": {},
   "outputs": [],
   "source": [
    "import math"
   ]
  },
  {
   "cell_type": "code",
   "execution_count": 82,
   "metadata": {},
   "outputs": [],
   "source": [
    "def ludnosc_w_roku(rok,woj):\n",
    "    if rok < 2014:\n",
    "            print('Rok zbyt mały.')\n",
    "            return\n",
    "    if rok == 2014:\n",
    "        return woj.ludnosc2014\n",
    "    else:\n",
    "        poprzedni_rok = ludnosc_w_roku(rok - 1,woj)\n",
    "        nowa_wartosc = poprzedni_rok * woj.tempo_wzrostu\n",
    "        if poprzedni_rok > 2 * woj.ludnosc2013:\n",
    "            return poprzedni_rok\n",
    "        return math.floor(nowa_wartosc)"
   ]
  },
  {
   "cell_type": "code",
   "execution_count": 86,
   "metadata": {},
   "outputs": [],
   "source": [
    "def przeludnienie_do(rok, woj):\n",
    "        if ludnosc_w_roku(rok,woj) > 2 * woj.ludnosc2013:\n",
    "            return True\n",
    "        return False"
   ]
  },
  {
   "cell_type": "code",
   "execution_count": 94,
   "metadata": {},
   "outputs": [],
   "source": [
    "def zadanie_5_3():\n",
    "    podpunkt1 = {}\n",
    "    for woj in wojewodztwa:\n",
    "        podpunkt1.setdefault(woj.nazwa, 0)\n",
    "        podpunkt1[woj.nazwa] += ludnosc_w_roku(2025,woj)\n",
    "\n",
    "    print(\"\"\"Podaj liczbę wszystkich mieszkańców Edulandii w 2025 roku i wskaż, które województwo będzie miało w tym roku najwięcej mieszkańców.\"\"\")\n",
    "    najwieksza_ilosc = max(podpunkt1.items(), key=lambda x: x[1])\n",
    "    print(f'Ilość wszystkich mieszkańców to {sum(podpunkt1.values())}')\n",
    "    print(f'Największą ilość ma {najwieksza_ilosc}\\n')\n",
    "\n",
    "    print(\"\"\"Podaj liczbę województw, w których kiedykolwiek wystąpi efekt przeludnienia w latach 2014–2025 włącznie.\"\"\")\n",
    "    liczba_przeludnien = 0\n",
    "    for woj in wojewodztwa:\n",
    "        if przeludnienie_do(2025,woj):\n",
    "            liczba_przeludnien += 1\n",
    "    print(f'Liczba województw z przeludnieniem od 2014-2025 włącznie: {liczba_przeludnien}')"
   ]
  },
  {
   "cell_type": "code",
   "execution_count": 95,
   "metadata": {},
   "outputs": [
    {
     "name": "stdout",
     "output_type": "stream",
     "text": [
      "Podaj liczbę wszystkich mieszkańców Edulandii w 2025 roku i wskaż, które województwo będzie miało w tym roku najwięcej mieszkańców.\n",
      "Ilość wszystkich mieszkańców to 125930205\n",
      "Największą ilość ma ('w12C', 16699503)\n",
      "\n",
      "Podaj liczbę województw, w których kiedykolwiek wystąpi efekt przeludnienia w latach 2014–2025 włącznie.\n",
      "Liczba województw z przeludnieniem od 2014-2025 włącznie: 18\n"
     ]
    }
   ],
   "source": [
    "zadanie_5_3()"
   ]
  },
  {
   "cell_type": "markdown",
   "metadata": {},
   "source": [
    "### Zadanie 6"
   ]
  },
  {
   "cell_type": "markdown",
   "metadata": {},
   "source": [
    "W następujących plikach zgromadzono dane dotyczące wyścigów samochodowych\n",
    "Formuły 1 z lat 2000–2012. Pierwszy wiersz w każdym z plików jest wierszem\n",
    "nagłówkowym i zawiera nazwy pól.\n",
    "\n",
    "W pliku Kierowcy.txt każdy wiersz zawiera informacje o kierowcy, rozdzielone\n",
    "średnikami: Id_kierowcy, Nazwisko, Imie, Kraj.\n",
    "\n",
    "Przykład:\n",
    "z10;Irvine;Eddie;Irlandia\n",
    "\n",
    "W pliku Wyscigi.txt są zawarte informacje o rozegranych wyścigach Grand Prix\n",
    "liczonych do klasyfikacji generalnej: Id_wyscigu, Rok, GrandPrix. Sezon jest reprezentowany\n",
    "przez rok (czterocyfrowa liczba), a GrandPrix jest nazwą miejsca, w którym jest rozgrywany\n",
    "wyścig.\n",
    "\n",
    "Przykład:\n",
    "w20;2001;Brazylia\n",
    "\n",
    "W pliku Wyniki.txt każdy wiersz zawiera informacje o punktach zdobytych przez\n",
    "kierowców w poszczególnych wyścigach, rozdzielone średnikami: Id_kierowcy, Punkty,\n",
    "Id_wyscigu.\n",
    "\n",
    "Przykład:\n",
    "z42;6;w7\n",
    "\n",
    "Wykorzystując dane zawarte w plikach Kierowcy.txt, Wyscigi.txt\n",
    "i Wyniki.txt, wykonaj poniższe polecenia, a odpowiedzi poprzedzone numerem\n",
    "oznaczającym podpunkt zapisz w pliku wynik6.txt. "
   ]
  },
  {
   "cell_type": "code",
   "execution_count": 101,
   "metadata": {},
   "outputs": [],
   "source": [
    "sciezka_do_pliku = 'Dane_PR2/Kierowcy.txt'"
   ]
  },
  {
   "cell_type": "code",
   "execution_count": 103,
   "metadata": {},
   "outputs": [],
   "source": [
    "kierowcy = []\n",
    "wyniki = []\n",
    "wyscigi = []"
   ]
  },
  {
   "cell_type": "code",
   "execution_count": 102,
   "metadata": {},
   "outputs": [],
   "source": [
    "class Kierowca:\n",
    "\n",
    "    def __init__(self, _id, nazwisko, imie, kraj):\n",
    "        # Id_kierowcy;Nazwisko;Imie;Kraj\n",
    "        self.id = _id\n",
    "        self.nazwisko = nazwisko\n",
    "        self.imie = imie\n",
    "        self.kraj = kraj\n",
    "\n",
    "    def __repr__(self):\n",
    "        return f'<Kierowca {self.imie} {self.nazwisko}>'"
   ]
  },
  {
   "cell_type": "code",
   "execution_count": 104,
   "metadata": {},
   "outputs": [],
   "source": [
    "with open(sciezka_do_pliku) as kierowcy_plik:\n",
    "    for line in kierowcy_plik:\n",
    "        line = line.strip().split(';')\n",
    "        if line[0] == 'Id_kierowcy':\n",
    "            continue\n",
    "        kierowcy.append(Kierowca(line[0], line[1], line[2], line[3]))"
   ]
  },
  {
   "cell_type": "code",
   "execution_count": 107,
   "metadata": {},
   "outputs": [],
   "source": [
    "class Wyscig:\n",
    "\n",
    "    def __init__(self, _id, rok, gp):\n",
    "        self.id = _id\n",
    "        self.rok = int(rok)\n",
    "        self.gp = gp"
   ]
  },
  {
   "cell_type": "code",
   "execution_count": 108,
   "metadata": {},
   "outputs": [],
   "source": [
    "with open('Dane_PR2/Wyscigi.txt') as kierowcy_plik:\n",
    "    for line in kierowcy_plik:\n",
    "        # Id_wyscigu, Rok, GrandPrix\n",
    "        line = line.strip().split(';')\n",
    "        if line[0] == 'Id_wyscigu':\n",
    "            continue\n",
    "        wyscigi.append(Wyscig(line[0], line[1], line[2]))"
   ]
  },
  {
   "cell_type": "code",
   "execution_count": 109,
   "metadata": {},
   "outputs": [],
   "source": [
    "class Wynik:\n",
    "    def __init__(self, id_kierowcy, pkt, id_wyscigu):\n",
    "        self.id_kierowcy = id_kierowcy\n",
    "\n",
    "        for kierowca in kierowcy:\n",
    "            if kierowca.id == id_kierowcy:\n",
    "                self.kierowca = kierowca\n",
    "        self.pkt = float(pkt.replace(',', '.'))\n",
    "        self.id_wyscigu = id_wyscigu\n",
    "\n",
    "        for wyscig in wyscigi:\n",
    "            if wyscig.id == id_wyscigu:\n",
    "                self.wyscig = wyscig"
   ]
  },
  {
   "cell_type": "code",
   "execution_count": 110,
   "metadata": {},
   "outputs": [],
   "source": [
    "with open('DAne_PR2/Wyniki.txt') as kierowcy_plik:\n",
    "    for line in kierowcy_plik:\n",
    "        # Id_kierowcy, Punkty, Id_wyscigu\n",
    "        line = line.strip().split(';')\n",
    "        if line[0] == 'Id_kierowcy':\n",
    "            continue\n",
    "        wyniki.append(Wynik(line[0], line[1], line[2]))"
   ]
  },
  {
   "cell_type": "markdown",
   "metadata": {},
   "source": [
    "### Zadanie 6.1\n",
    "\n",
    "#### Podaj sezon i nazwę wyścigu Grand Prix, w którym Robert Kubica zdobył najwięcej punktów"
   ]
  },
  {
   "cell_type": "code",
   "execution_count": 112,
   "metadata": {},
   "outputs": [],
   "source": [
    "def zadanie_6_1():\n",
    "    sezony = {}\n",
    "    wyscigi_pkt = {}\n",
    "    for wynik in wyniki:\n",
    "        wynik: Wynik\n",
    "\n",
    "        if wynik.id_kierowcy == 'z45':\n",
    "            sezon = wynik.wyscig.rok\n",
    "            sezony.setdefault(sezon, 0)\n",
    "            sezony[sezon] += wynik.pkt\n",
    "            wyscigi_pkt[wynik.wyscig.gp] = wynik.pkt\n",
    "    print(f'Najlepszy sezon: {max(sezony.items(), key=lambda x: x[1])}')\n",
    "    print(f'Najlepszy wyscig: {max(wyscigi_pkt.items(), key=lambda x: x[1])}')"
   ]
  },
  {
   "cell_type": "code",
   "execution_count": 113,
   "metadata": {},
   "outputs": [
    {
     "name": "stdout",
     "output_type": "stream",
     "text": [
      "Najlepszy sezon: (2010, 136.0)\n",
      "Najlepszy wyscig: ('Australia', 18.0)\n"
     ]
    }
   ],
   "source": [
    "zadanie_6_1()"
   ]
  },
  {
   "cell_type": "markdown",
   "metadata": {},
   "source": [
    "### Zadanie 6.2\n",
    "\n",
    "#### W których z miejsc podanych w plikach rozegrano najmniejszą liczbę wyścigów Grand Prix w latach 2000–2012? "
   ]
  },
  {
   "cell_type": "code",
   "execution_count": 115,
   "metadata": {},
   "outputs": [],
   "source": [
    "def zadanie_6_2():\n",
    "    miejsca = {}\n",
    "    for wynik in wyniki:\n",
    "        wynik: Wynik\n",
    "        miejsce = wynik.wyscig.gp\n",
    "        miejsca.setdefault(miejsce, 0)\n",
    "        miejsca[miejsce] += 1\n",
    "    print(f'Najmniej razy w {min(miejsca.items(),key=lambda x: x[1])}')"
   ]
  },
  {
   "cell_type": "code",
   "execution_count": 116,
   "metadata": {},
   "outputs": [
    {
     "name": "stdout",
     "output_type": "stream",
     "text": [
      "Najmniej razy w ('Indie', 20)\n"
     ]
    }
   ],
   "source": [
    "zadanie_6_2()"
   ]
  },
  {
   "cell_type": "markdown",
   "metadata": {},
   "source": [
    "### Zadanie 6.3\n",
    "\n",
    "#### Klasyfikacja generalna w danym sezonie jest tworzona na podstawie sumy punktów uzyskanych przez kierowców w wyścigach rozegranych w tym sezonie. Utwórz zestawienie zawierające nazwiska i imiona kierowców – zwycięzców klasyfikacji generalnej w sezonach 2000, 2006 i 2012 wraz z liczbami punktów przez nich uzyskanymi. "
   ]
  },
  {
   "cell_type": "code",
   "execution_count": 119,
   "metadata": {},
   "outputs": [],
   "source": [
    "def zadanie_6_3():    \n",
    "    klasyfikacja = {}\n",
    "    for wynik in wyniki:\n",
    "        wynik: Wynik\n",
    "        if wynik.wyscig.rok in [2006, 2000, 2012]:\n",
    "            klasyfikacja.setdefault(wynik.wyscig.rok, {})\n",
    "            klasyfikacja[wynik.wyscig.rok].setdefault(wynik.kierowca, 0)\n",
    "            klasyfikacja[wynik.wyscig.rok][wynik.kierowca] += wynik.pkt\n",
    "    # print(klasyfikacja)\n",
    "    for rok in klasyfikacja:\n",
    "        wygrany_kierowca: Kierowca = max(klasyfikacja[rok].items(), key=lambda x: x[1])\n",
    "        print(f'Zwycięzca w {rok} roku to {wygrany_kierowca[0].imie} {wygrany_kierowca[0].nazwisko}. Zdobył {wygrany_kierowca[1]} pkt.')"
   ]
  },
  {
   "cell_type": "code",
   "execution_count": 120,
   "metadata": {},
   "outputs": [
    {
     "name": "stdout",
     "output_type": "stream",
     "text": [
      "Zwycięzca w 2000 roku to Michael Schumacher. Zdobył 108.0 pkt.\n",
      "Zwycięzca w 2006 roku to Fernando Alonso. Zdobył 134.0 pkt.\n",
      "Zwycięzca w 2012 roku to Sebastian Vettel. Zdobył 281.0 pkt.\n"
     ]
    }
   ],
   "source": [
    "zadanie_6_3()"
   ]
  },
  {
   "cell_type": "markdown",
   "metadata": {},
   "source": [
    "### Zadanie 6.4\n",
    "\n",
    "#### Dla każdego kraju, którego reprezentanci zdobywali punkty w sezonie 2012, podaj liczbę tych reprezentantów."
   ]
  },
  {
   "cell_type": "code",
   "execution_count": 122,
   "metadata": {},
   "outputs": [],
   "source": [
    "def zadanie_6_4():\n",
    "    kraje = {}\n",
    "    for wynik in wyniki:\n",
    "        if wynik.wyscig.rok == 2012 and wynik.pkt > 0:\n",
    "            kraj = wynik.kierowca.kraj\n",
    "            kraje.setdefault(kraj, set())\n",
    "            kraje[kraj].add(wynik.kierowca)\n",
    "    for kraj in kraje:\n",
    "        kraje[kraj] = len(kraje[kraj])\n",
    "    print(kraje)"
   ]
  },
  {
   "cell_type": "code",
   "execution_count": 123,
   "metadata": {},
   "outputs": [
    {
     "name": "stdout",
     "output_type": "stream",
     "text": [
      "{'Niemcy': 4, 'Hiszpania': 1, 'Finlandia': 1, 'Wielka Brytania': 3, 'Australia': 2, 'Meksyk': 1, 'Japonia': 1, 'Brazylia': 2, 'Francja': 2, 'Wenezuela': 1}\n"
     ]
    }
   ],
   "source": [
    "zadanie_6_4()"
   ]
  },
  {
   "cell_type": "code",
   "execution_count": null,
   "metadata": {},
   "outputs": [],
   "source": []
  }
 ],
 "metadata": {
  "interpreter": {
   "hash": "66817275d0a38e4d8c274e20667b259b90f0fc84f646a5311c297e31774ce5e1"
  },
  "kernelspec": {
   "display_name": "Python 3.8.6 64-bit",
   "language": "python",
   "name": "python3"
  },
  "language_info": {
   "codemirror_mode": {
    "name": "ipython",
    "version": 3
   },
   "file_extension": ".py",
   "mimetype": "text/x-python",
   "name": "python",
   "nbconvert_exporter": "python",
   "pygments_lexer": "ipython3",
   "version": "3.8.6"
  },
  "orig_nbformat": 4
 },
 "nbformat": 4,
 "nbformat_minor": 2
}
